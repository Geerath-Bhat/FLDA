{
 "cells": [
  {
   "cell_type": "code",
   "execution_count": 1,
   "id": "57050b4e",
   "metadata": {},
   "outputs": [],
   "source": [
    "import numpy as np\n",
    "import math # only for simple mathematical calculations\n",
    "import matplotlib.pyplot as plt"
   ]
  },
  {
   "cell_type": "code",
   "execution_count": 2,
   "id": "46d6230f",
   "metadata": {},
   "outputs": [],
   "source": [
    "# Loading data\n",
    "train_data = np.loadtxt('./p3_train.csv', delimiter=',',skiprows=1)\n",
    "test_data = np.loadtxt('./p3_test.csv', delimiter=',',skiprows=1)"
   ]
  },
  {
   "cell_type": "code",
   "execution_count": 3,
   "id": "d8926f2c",
   "metadata": {},
   "outputs": [],
   "source": [
    "# divide data into training and testing\n",
    "X_train, y_train = train_data[:,:10], train_data[:,10]\n",
    "X_test, y_test = test_data[:,:10], test_data[:,10]"
   ]
  },
  {
   "cell_type": "code",
   "execution_count": 4,
   "id": "1f11ba2f",
   "metadata": {},
   "outputs": [],
   "source": [
    "X = np.concatenate((X_train, X_test))\n",
    "y = np.concatenate((y_train, y_test))"
   ]
  },
  {
   "cell_type": "markdown",
   "id": "f948a353",
   "metadata": {},
   "source": [
    "# Implementing FLDA for the classification problem"
   ]
  },
  {
   "cell_type": "code",
   "execution_count": 5,
   "id": "d5797812",
   "metadata": {},
   "outputs": [],
   "source": [
    "# Compute the mean and covariance matrices for each class\n",
    "class_means = []\n",
    "for c in np.unique(y_train):\n",
    "    class_means.append(np.mean(X_train[y_train == c], axis=0))"
   ]
  },
  {
   "cell_type": "markdown",
   "id": "1701b7fc",
   "metadata": {},
   "source": [
    "In linear discriminant analysis (LDA), the within-class scatter matrix (S_w) and the between-class scatter matrix (S_b) are used to project the data onto a lower-dimensional space while maximizing the class separability.\n",
    "\n",
    "S_w = The within-class scatter matrix S_w measures the within-class variance of the data, i.e., the variance of the data points within each class.\n",
    "\n",
    "\n",
    "S_b = The between-class scatter matrix S_b measures the between-class variance of the data, i.e., the variance between different classes"
   ]
  },
  {
   "cell_type": "code",
   "execution_count": 6,
   "id": "4f26ecd1",
   "metadata": {},
   "outputs": [],
   "source": [
    "S_w = np.zeros((X.shape[1], X.shape[1])) # Within-class scatter matrix\n",
    "for c, mean in zip(np.unique(y_train), class_means):\n",
    "    X_c = X_train[y_train == c]\n",
    "    S_w += np.dot((X_c - mean).T, (X_c - mean))"
   ]
  },
  {
   "cell_type": "code",
   "execution_count": 7,
   "id": "37e26487",
   "metadata": {},
   "outputs": [],
   "source": [
    "S_b = np.zeros((X.shape[1], X.shape[1])) # Between-class scatter matrix\n",
    "mean_all = np.mean(X_train, axis=0)\n",
    "for c, mean in zip(np.unique(y_train), class_means):\n",
    "    n_c = len(X_train[y_train == c])\n",
    "    S_b += n_c * np.dot((mean - mean_all).reshape(-1, 1), (mean - mean_all).reshape(1, -1))"
   ]
  },
  {
   "cell_type": "markdown",
   "id": "013b4103",
   "metadata": {},
   "source": [
    "This code computes the FLDA projection matrix W by first calculating the generalized eigenvectors and eigenvalues of the matrix product (S_w)^-1 S_b using the np.linalg.eig function. The eigenvectors are stored in eigenvectors and the corresponding eigenvalues are stored in eigenvalues.\n",
    "\n",
    "The eigenvectors are sorted in descending order of their corresponding eigenvalues using np.argsort(eigenvalues)[::-1] and the first len(np.unique(y))-1 eigenvectors are selected as the projection matrix W. The reason for selecting the first len(np.unique(y))-1 eigenvectors is that there are len(np.unique(y)) classes in the data and the projection matrix should have num_classes - 1 columns.\n",
    "\n",
    "Finally, the training and testing data are projected onto the FLDA space using the projection matrix W with the code X_train_lda = np.dot(X_train, W) and X_test_lda = np.dot(X_test, W)"
   ]
  },
  {
   "cell_type": "code",
   "execution_count": 8,
   "id": "eb3b2ab1",
   "metadata": {},
   "outputs": [],
   "source": [
    "# Compute the FLDA projection matrix\n",
    "eigenvalues, eigenvectors = np.linalg.eig(np.dot(np.linalg.inv(S_w), S_b))\n",
    "W = eigenvectors[:, np.argsort(eigenvalues)[::-1][:len(np.unique(y))-1]]"
   ]
  },
  {
   "cell_type": "code",
   "execution_count": 9,
   "id": "380045f9",
   "metadata": {},
   "outputs": [],
   "source": [
    "# Project the training and testing data onto the FLDA space\n",
    "X_train_lda = np.dot(X_train, W)\n",
    "X_test_lda = np.dot(X_test, W)"
   ]
  },
  {
   "cell_type": "markdown",
   "id": "15c42895",
   "metadata": {},
   "source": [
    "# This code fits a logistic regression model on the FLDA-transformed training data and predicts the labels for the FLDA-transformed testing data. It then computes the classification accuracy as the proportion of correctly classified samples in the testing data."
   ]
  },
  {
   "cell_type": "markdown",
   "id": "2549bffb",
   "metadata": {},
   "source": [
    "ERM using Multi class using logistic regressor"
   ]
  },
  {
   "cell_type": "code",
   "execution_count": 10,
   "id": "381be2b5",
   "metadata": {},
   "outputs": [
    {
     "data": {
      "text/plain": [
       "(60000, 5)"
      ]
     },
     "execution_count": 10,
     "metadata": {},
     "output_type": "execute_result"
    }
   ],
   "source": [
    "# making augmented train \n",
    "tmp = np.ones((X_train_lda.shape[0],1)) \n",
    "X_train_lda=np.column_stack((X_train_lda,tmp))\n",
    "X_train_lda.shape"
   ]
  },
  {
   "cell_type": "code",
   "execution_count": 11,
   "id": "c04db94e",
   "metadata": {},
   "outputs": [
    {
     "data": {
      "text/plain": [
       "(15000, 5)"
      ]
     },
     "execution_count": 11,
     "metadata": {},
     "output_type": "execute_result"
    }
   ],
   "source": [
    "# making augmented test \n",
    "tmp = np.ones((X_test_lda.shape[0],1))\n",
    "X_test_lda=np.column_stack((X_test_lda,tmp))\n",
    "X_test_lda.shape"
   ]
  },
  {
   "cell_type": "markdown",
   "id": "e3557e22",
   "metadata": {},
   "source": [
    "Calculating ERM on training and testing"
   ]
  },
  {
   "cell_type": "markdown",
   "id": "aaee1a25",
   "metadata": {},
   "source": [
    "Training"
   ]
  },
  {
   "cell_type": "code",
   "execution_count": 12,
   "id": "91b1813b",
   "metadata": {},
   "outputs": [],
   "source": [
    "classes, features = 5, 5"
   ]
  },
  {
   "cell_type": "code",
   "execution_count": 13,
   "id": "3dfad018",
   "metadata": {},
   "outputs": [],
   "source": [
    "# computing Weight for every class\n",
    "W=[]\n",
    "for i in range(5):\n",
    "    W.append(np.ones((features,1)))"
   ]
  },
  {
   "cell_type": "code",
   "execution_count": 14,
   "id": "b6a48177",
   "metadata": {},
   "outputs": [],
   "source": [
    "def find_loss(X,W,j):\n",
    "    X=X.reshape((X.shape[0],1))\n",
    "    e=[]                        # exponent e\n",
    "    g = []                      # softmax g\n",
    "    grad = []                   # gradient grad\n",
    "    for i in range(classes):\n",
    "        e.append(math.exp(W[i].T@X))\n",
    "    k = sum(e)\n",
    "    for i in range(classes):\n",
    "        g.append(e[i]/k)\n",
    "    loss = -1*math.log(g[j])     # loss for single image\n",
    "    for i in range(classes):\n",
    "        if i!=j:\n",
    "            grad.append(-g[i]*X.reshape(X.shape[0]))\n",
    "        else:\n",
    "            grad.append((1-g[i])*X.reshape(X.shape[0]))\n",
    "    return loss,grad"
   ]
  },
  {
   "cell_type": "code",
   "execution_count": 15,
   "id": "19fcd482",
   "metadata": {},
   "outputs": [],
   "source": [
    "def training_epoch():\n",
    "    final_loss = 0\n",
    "    final_grad = np.zeros((features,classes))  \n",
    "    for i in range(X_train_lda.shape[0]):\n",
    "        loss,grad = find_loss(X_train_lda[i,:],W,int(y_train[i])-1)    \n",
    "        final_loss =final_loss + loss\n",
    "        final_grad = final_grad + np.stack(grad,axis = 1)\n",
    "    return final_loss,final_grad"
   ]
  },
  {
   "cell_type": "code",
   "execution_count": 16,
   "id": "d4ad66b9",
   "metadata": {},
   "outputs": [
    {
     "name": "stdout",
     "output_type": "stream",
     "text": [
      "loss at 10th i.e last epoch is 1.1470394728747044\n"
     ]
    }
   ],
   "source": [
    "epochs, alpha, prev_loss = 10, 10, 0\n",
    "for i in range(epochs):\n",
    "    loss,grad = training_epoch()\n",
    "    for j in range(classes):\n",
    "        gradient = grad[:,j].reshape(grad[:,j].shape[0],1)\n",
    "        if prev_loss<loss:\n",
    "            alpha = (alpha/10)\n",
    "        W[j]=W[j]+alpha*gradient/np.linalg.norm(gradient)\n",
    "        prev_loss = loss\n",
    "print(f'loss at {i+1}th i.e last epoch is {loss/X_train_lda.shape[0]}')"
   ]
  },
  {
   "cell_type": "code",
   "execution_count": 17,
   "id": "6eb9be7f",
   "metadata": {},
   "outputs": [
    {
     "name": "stdout",
     "output_type": "stream",
     "text": [
      "ERM on training data is: 1.1470394728747044\n"
     ]
    }
   ],
   "source": [
    "print(f'ERM on training data is: {loss/X_train_lda.shape[0]}')"
   ]
  },
  {
   "cell_type": "markdown",
   "id": "a6170f25",
   "metadata": {},
   "source": [
    "Testing"
   ]
  },
  {
   "cell_type": "code",
   "execution_count": 18,
   "id": "def48059",
   "metadata": {},
   "outputs": [],
   "source": [
    "confusion_matrix = np.zeros((classes,classes))\n",
    "count, loss = 0, 0\n",
    "for i in range(X_test_lda.shape[0]):\n",
    "    X = X_test_lda[i,:]\n",
    "    X=X.reshape((X.shape[0],1))\n",
    "    e=[]                        # exponent\n",
    "    g = []                      # softmax\n",
    "    grad = []                   # gradient \n",
    "    for j in range(classes):\n",
    "        e.append(math.exp(W[j].T@X))\n",
    "    k = sum(e)\n",
    "    for j in range(classes):\n",
    "        g.append(e[j]/k)\n",
    "    k = g.index(max(g))\n",
    "    if k==int(y_test[i])-1:  # Class starts from 1\n",
    "        count = count+1\n",
    "    v = int(y_test[i])-1\n",
    "    confusion_matrix[v][k] += 1\n",
    "\n",
    "    loss = loss - 1*math.log(g[v])"
   ]
  },
  {
   "cell_type": "code",
   "execution_count": 19,
   "id": "b293cf79",
   "metadata": {},
   "outputs": [
    {
     "name": "stdout",
     "output_type": "stream",
     "text": [
      "ERM on Testing data is: 1.1423435706588208\n"
     ]
    }
   ],
   "source": [
    "print(f'ERM on Testing data is: {loss/X_test_lda.shape[0]}')"
   ]
  },
  {
   "cell_type": "markdown",
   "id": "82204058",
   "metadata": {},
   "source": [
    "Accuracy using Logistic Regression"
   ]
  },
  {
   "cell_type": "code",
   "execution_count": 20,
   "id": "7c13f5fd",
   "metadata": {},
   "outputs": [
    {
     "name": "stdout",
     "output_type": "stream",
     "text": [
      "Classification accuracy is: 57.17333333333333\n"
     ]
    }
   ],
   "source": [
    "print(f'Classification accuracy is: {count*100/X_test_lda.shape[0]}')"
   ]
  },
  {
   "cell_type": "markdown",
   "id": "4fb42cab",
   "metadata": {},
   "source": [
    "# Confusion Matrix"
   ]
  },
  {
   "cell_type": "markdown",
   "id": "afc9b98b",
   "metadata": {},
   "source": [
    "A confusion matrix is used to calculate various performance metrics for the classification model, such as accuracy, precision, recall, F1 score, and others. It is a useful for evaluating the performance of a classification model and understanding how well it is able to classify the different classes."
   ]
  },
  {
   "cell_type": "code",
   "execution_count": 21,
   "id": "7713bf6c",
   "metadata": {},
   "outputs": [
    {
     "name": "stdout",
     "output_type": "stream",
     "text": [
      "testing data confusion matrix is:\n",
      "[[1517.  388.  303.  374.  389.]\n",
      " [ 380. 1687.  302.  278.  334.]\n",
      " [ 309.  301. 1877.  261.  292.]\n",
      " [ 341.  344.  264. 1739.  287.]\n",
      " [ 354.  319.  264.  340. 1756.]]\n"
     ]
    }
   ],
   "source": [
    "print('testing data confusion matrix is:')\n",
    "print(confusion_matrix)"
   ]
  },
  {
   "cell_type": "markdown",
   "id": "83fcc8c6",
   "metadata": {},
   "source": [
    "# F1 Score"
   ]
  },
  {
   "cell_type": "markdown",
   "id": "47e76162",
   "metadata": {},
   "source": [
    "It is the harmonic mean of precision and recall, and it ranges from 0 to 1."
   ]
  },
  {
   "cell_type": "code",
   "execution_count": 22,
   "id": "90365a27",
   "metadata": {},
   "outputs": [],
   "source": [
    "# function to calculate F1 score\n",
    "def F1(classes,confusion_matrix):\n",
    "    TP, TN, FP, FN, F1 = [], [], [], [], []  # True positive True negative False Positive False negative and F values\n",
    "    for i in range(classes):\n",
    "        TP.append(confusion_matrix[i][i])\n",
    "        TN.append(np.sum(confusion_matrix)-np.sum(confusion_matrix[i,:])-np.sum(confusion_matrix[:,i])+confusion_matrix[i][i])\n",
    "        FP.append(np.sum(confusion_matrix[i,:])-confusion_matrix[i][i])\n",
    "        FN.append(np.sum(confusion_matrix[:,i])-confusion_matrix[i][i])\n",
    "        F1.append((2*TP[i])/(2*TP[i] + FP[i] + FN[i]))\n",
    "    return F1"
   ]
  },
  {
   "cell_type": "code",
   "execution_count": 23,
   "id": "fe9e719a",
   "metadata": {},
   "outputs": [
    {
     "name": "stdout",
     "output_type": "stream",
     "text": [
      "F1 Score Class 0: 0.5166893732970027\n",
      "F1 Score Class 1: 0.5604651162790698\n",
      "F1 Score Class 2: 0.620495867768595\n",
      "F1 Score Class 3: 0.5828724652254064\n",
      "F1 Score Class 4: 0.576588409128222\n"
     ]
    }
   ],
   "source": [
    "score = F1(classes,confusion_matrix)\n",
    "for c in range(classes):\n",
    "    print(f\"F1 Score Class {c}: {score[c]}\")"
   ]
  },
  {
   "cell_type": "markdown",
   "id": "08012742",
   "metadata": {},
   "source": [
    "# ROC Curve between any 2 classes"
   ]
  },
  {
   "cell_type": "markdown",
   "id": "64598c01",
   "metadata": {},
   "source": [
    "To plot the RoC curves for the chosen pair of classes, we can follow these steps:\n",
    "\n",
    "1. Compute the predicted probabilities for the chosen pair of classes using the trained logistic regression model and the testing data projected onto the FLDA space.\n",
    "2. Compute the true positive rate (TPR) and false positive rate (FPR) for different threshold values.\n",
    "3. Plot the RoC curve using the TPR and FPR values."
   ]
  },
  {
   "cell_type": "code",
   "execution_count": 24,
   "id": "b7998201",
   "metadata": {},
   "outputs": [],
   "source": [
    "classes = 2"
   ]
  },
  {
   "cell_type": "code",
   "execution_count": 25,
   "id": "7cb8022f",
   "metadata": {},
   "outputs": [],
   "source": [
    "temp = train_data[:,:]\n",
    "lst = []\n",
    "ans = []\n",
    "for i in range(classes):\n",
    "    x1 = temp[np.where(temp[:,10]==i+1)]\n",
    "    x = x1[:,:10]\n",
    "    y = x1[:,10]\n",
    "    y=y.reshape((y.shape[0],1))\n",
    "    lst.append(x)\n",
    "    ans.append(y)"
   ]
  },
  {
   "cell_type": "code",
   "execution_count": 26,
   "id": "20a8a30e",
   "metadata": {},
   "outputs": [],
   "source": [
    "l = np.row_stack((lst[0],lst[1]))\n",
    "m = np.row_stack((ans[0],ans[1]))"
   ]
  },
  {
   "cell_type": "code",
   "execution_count": 27,
   "id": "819d6197",
   "metadata": {},
   "outputs": [],
   "source": [
    "mean=[]   \n",
    "for i in range(classes):\n",
    "    a=lst[i]\n",
    "    a = a.mean(axis=0)\n",
    "    mean.append(a)"
   ]
  },
  {
   "cell_type": "code",
   "execution_count": 28,
   "id": "7cd8cbbd",
   "metadata": {},
   "outputs": [],
   "source": [
    "TPR, FPR = [], []\n",
    "for j in range(20):\n",
    "    count = 0\n",
    "    threshold=(j-10)/100\n",
    "    TP , FP, TN, FN = 0, 0, 0, 0\n",
    "    for i in range(l.shape[0]):\n",
    "        v = (l[i]-mean[0])\n",
    "        v = np.power(v,2)\n",
    "        k = 0.5 * np.sum(v)\n",
    "        k1 = math.exp(-k)\n",
    "        v = (l[i]-mean[1])\n",
    "        v = np.power(v,2)\n",
    "        k = 0.5 * np.sum(v)\n",
    "        k2 = math.exp(-k)\n",
    "        if k1-k2>threshold:\n",
    "            k=2\n",
    "        else:\n",
    "            k=1\n",
    "        if k==int(m[i][0]) and k==2:\n",
    "            TP+=1\n",
    "        elif k==int(m[i][0]) and k==1:\n",
    "            TN+=1\n",
    "        elif k!=int(m[i][0]) and k==2:\n",
    "            FP+=1\n",
    "        else:\n",
    "            FN+=1\n",
    "    TPR.append(TP/(TP+FN))\n",
    "    FPR.append(FP/(FP+TN))\n",
    "    "
   ]
  },
  {
   "cell_type": "code",
   "execution_count": 29,
   "id": "becf413c",
   "metadata": {},
   "outputs": [
    {
     "data": {
      "text/plain": [
       "[<matplotlib.lines.Line2D at 0x136a9c1d600>]"
      ]
     },
     "execution_count": 29,
     "metadata": {},
     "output_type": "execute_result"
    },
    {
     "data": {
      "image/png": "[encoded data removed]",
      "text/plain": [
       "<Figure size 432x288 with 1 Axes>"
      ]
     },
     "metadata": {
      "needs_background": "light"
     },
     "output_type": "display_data"
    }
   ],
   "source": [
    "plt.plot(TPR,FPR)"
   ]
  },
  {
   "cell_type": "markdown",
   "id": "3279da56",
   "metadata": {},
   "source": [
    "High true positive rate (TPR) but a relatively high false positive rate (FPR) as well. This means that the classifier is able to correctly identify a large proportion of positive cases, but at the same time also incorrectly identifies a relatively large proportion of negative cases as positive. The sharp rise at the beginning of the curve may indicate that the classifier is initially very good at correctly identifying positive cases, but then reaches a limit beyond which it cannot improve further without also increasing the number of false positives."
   ]
  },
  {
   "cell_type": "markdown",
   "id": "82fb686b",
   "metadata": {},
   "source": [
    "# Likelihood curve for different number of mixtures as hyper-parameters"
   ]
  },
  {
   "cell_type": "markdown",
   "id": "735a5f92",
   "metadata": {},
   "source": [
    "Performing Gaussian Mixture Model clustering on training data and then using the learned model to predict the labels of the testing data. To plot the likelihood curve for EM with different choices for the number of mixtures as hyperparameters, we will first define a function to perform EM algorithm with a given number of mixtures and compute the log-likelihood at each iteration. Then, we can call this function for different choices of the number of mixtures and plot the log-likelihood curves."
   ]
  },
  {
   "cell_type": "code",
   "execution_count": 30,
   "id": "3605d2b3",
   "metadata": {},
   "outputs": [],
   "source": [
    "def multivariate_gaussian_pdf(X, mean, cov):\n",
    "    N, D = X.shape\n",
    "    X = X - mean\n",
    "    det = np.linalg.det(cov)\n",
    "    inv = np.linalg.inv(cov)\n",
    "    norm_const = 1.0 / (np.power((2*np.pi),float(D)/2) * np.power(det,1.0/2))\n",
    "    exp_val = np.array([np.dot(np.dot(X[n], inv), X[n]) for n in range(N)])\n",
    "    return norm_const * np.exp(-exp_val/2)"
   ]
  },
  {
   "cell_type": "code",
   "execution_count": 31,
   "id": "d94bb1db",
   "metadata": {},
   "outputs": [],
   "source": [
    "def em_algorithm(X, K, num_iter=100, tol=1e-4):\n",
    "    N, D = X.shape\n",
    "    # Initialize parameters\n",
    "    pi = np.ones(K) / K\n",
    "    mu = np.random.randn(K, D)\n",
    "    sigma = np.array([np.eye(D) for k in range(K)])\n",
    "    log_likelihoods = []\n",
    "    \n",
    "    # Run EM algorithm\n",
    "    for i in range(num_iter):\n",
    "        # E-step\n",
    "        gamma = np.zeros((N, K))\n",
    "        for k in range(K):\n",
    "            gamma[:, k] = pi[k] * multivariate_gaussian_pdf(X, mu[k], sigma[k])\n",
    "        gamma /= gamma.sum(axis=1, keepdims=True)\n",
    "        \n",
    "        # M-step\n",
    "        N_k = gamma.sum(axis=0)\n",
    "        pi = N_k / N\n",
    "        for k in range(K):\n",
    "            mu[k] = gamma[:, k].dot(X) / N_k[k]\n",
    "            X_mu = X - mu[k]\n",
    "            sigma[k] = (gamma[:, k] * X_mu.T).dot(X_mu) / N_k[k]\n",
    "        \n",
    "        # Compute log-likelihood\n",
    "        log_likelihood = np.sum(np.log(gamma.dot(pi)))\n",
    "        log_likelihoods.append(log_likelihood)\n",
    "        \n",
    "        # Check for convergence\n",
    "        if i > 0 and np.abs(log_likelihood - log_likelihoods[i-1]) < tol:\n",
    "            break\n",
    "    \n",
    "    return pi, mu, sigma, log_likelihoods"
   ]
  },
  {
   "cell_type": "code",
   "execution_count": 32,
   "id": "2635635d",
   "metadata": {},
   "outputs": [
    {
     "data": {
      "image/png": "[encoded data removed]",
      "text/plain": [
       "<Figure size 432x288 with 1 Axes>"
      ]
     },
     "metadata": {
      "needs_background": "light"
     },
     "output_type": "display_data"
    }
   ],
   "source": [
    "# Run EM algorithm on training data with different values of K\n",
    "K_range = range(1, 7)\n",
    "log_likelihoods_train = []\n",
    "for k in K_range:\n",
    "    pi, mu, sigma, log_likelihoods = em_algorithm(X_train, k)\n",
    "    log_likelihoods_train.append(log_likelihoods[-1])\n",
    "\n",
    "# Plot log-likelihood vs. K for training data\n",
    "fig, ax = plt.subplots()\n",
    "ax.plot(K_range, log_likelihoods_train, 'o-')\n",
    "ax.set_xlabel('Number of clusters (K)')\n",
    "ax.set_ylabel('Log-likelihood')\n",
    "plt.show()"
   ]
  },
  {
   "cell_type": "code",
   "execution_count": null,
   "id": "8603077f",
   "metadata": {},
   "outputs": [],
   "source": []
  }
 ],
 "metadata": {
  "kernelspec": {
   "display_name": "Python 3 (ipykernel)",
   "language": "python",
   "name": "python3"
  },
  "language_info": {
   "codemirror_mode": {
    "name": "ipython",
    "version": 3
   },
   "file_extension": ".py",
   "mimetype": "text/x-python",
   "name": "python",
   "nbconvert_exporter": "python",
   "pygments_lexer": "ipython3",
   "version": "3.10.10"
  }
 },
 "nbformat": 4,
 "nbformat_minor": 5
}
